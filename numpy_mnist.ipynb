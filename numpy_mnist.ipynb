{
 "cells": [
  {
   "cell_type": "code",
   "execution_count": 63,
   "metadata": {},
   "outputs": [],
   "source": [
    "import numpy as np\n",
    "from sklearn.metrics import accuracy_score\n",
    "import matplotlib.pyplot as plt\n",
    "from tqdm import trange"
   ]
  },
  {
   "cell_type": "code",
   "execution_count": 64,
   "metadata": {},
   "outputs": [
    {
     "name": "stdout",
     "output_type": "stream",
     "text": [
      "Loaded X_train: (60000, 28, 28), y_train: (60000,)\n",
      "Loaded X_test: (10000, 28, 28), y_train: (10000,)\n"
     ]
    }
   ],
   "source": [
    "import gzip\n",
    "\n",
    "def load_mnist_images(filename):\n",
    "    with gzip.open(filename, 'rb') as f:\n",
    "        data = np.frombuffer(f.read(), np.uint8, offset=16).reshape(-1, 28, 28)\n",
    "        return data.astype(np.float32) / 255.0  # Normalize\n",
    "\n",
    "def load_mnist_labels(filename):\n",
    "    with gzip.open(filename, 'rb') as f:\n",
    "        labels = np.frombuffer(f.read(), np.uint8, offset=8)\n",
    "        return labels\n",
    "\n",
    "# Load from original MNIST files\n",
    "X_train = load_mnist_images(\"../Datasets/MNIST/raw/train-images-idx3-ubyte.gz\")\n",
    "y_train = load_mnist_labels(\"../Datasets/MNIST/raw/train-labels-idx1-ubyte.gz\")\n",
    "\n",
    "X_test = load_mnist_images(\"../Datasets/MNIST/raw/t10k-images-idx3-ubyte.gz\")\n",
    "y_test = load_mnist_labels(\"../Datasets/MNIST/raw/t10k-labels-idx1-ubyte.gz\")\n",
    "\n",
    "print(f\"Loaded X_train: {X_train.shape}, y_train: {y_train.shape}\")\n",
    "print(f\"Loaded X_test: {X_test.shape}, y_train: {y_test.shape}\")"
   ]
  },
  {
   "cell_type": "code",
   "execution_count": 69,
   "metadata": {},
   "outputs": [
    {
     "name": "stderr",
     "output_type": "stream",
     "text": [
      "Loss: 0.10726671776507071: 100%|██████████| 5000/5000 [00:26<00:00, 188.94it/s] \n"
     ]
    },
    {
     "data": {
      "text/plain": [
       "Text(0.5, 1.0, 'Loss evolution')"
      ]
     },
     "execution_count": 69,
     "metadata": {},
     "output_type": "execute_result"
    },
    {
     "data": {
      "image/png": "[encoded data removed]",
      "text/plain": [
       "<Figure size 640x480 with 1 Axes>"
      ]
     },
     "metadata": {},
     "output_type": "display_data"
    }
   ],
   "source": [
    "bs = 128\n",
    "in_dim=784\n",
    "hid_dim = 256\n",
    "out_dim=10\n",
    "\n",
    "max_steps=5000\n",
    "lr=5e-2\n",
    "losses=[]\n",
    "\n",
    "# Weights: \n",
    "\n",
    "# Layer 1: (no need for bias because batch norm after)\n",
    "W1 = np.random.randn(in_dim, hid_dim) / in_dim**0.5\n",
    "#BatchNorm:\n",
    "bngain = np.random.randn(1, hid_dim)*0.1 + 1\n",
    "bnbias = np.random.randn(1, hid_dim)*0.1\n",
    "# Layer 2:\n",
    "W2 = np.random.randn(hid_dim, out_dim) / hid_dim**0.5\n",
    "b2 = np.random.randn(out_dim)\n",
    "\n",
    "parameters = [W1, W2, b2, bngain, bnbias]\n",
    "\n",
    "# Batch Norm Running Mean and Var\n",
    "momentum=0.1\n",
    "running_mean = np.zeros(hid_dim)\n",
    "running_var = np.ones(hid_dim)\n",
    "\n",
    "pbar = trange(max_steps, desc=\"Training\")\n",
    "for i in pbar:\n",
    "        idxs = np.random.randint(low=0, high=len(X_train), size=(bs,))\n",
    "        x, label = np.stack([X_train[i] for i in idxs]), np.array([y_train[i] for i in idxs])\n",
    "\n",
    "        x = x.reshape(-1, 784)\n",
    "\n",
    "        # Forward Pass : \n",
    "        n = x.shape[0]\n",
    "        ## Layer 1:\n",
    "        hprebn = x @ W1\n",
    "        ### start batchnorm\n",
    "        bnmean = 1/n * hprebn.sum(0, keepdims=True)\n",
    "        bndiff = hprebn - bnmean\n",
    "        bndiff2 = bndiff**2\n",
    "        bnvar = 1/(n-1) * (bndiff2).sum(0, keepdims=True) # Bessel's correction\n",
    "        bnvar_inv = (bnvar + 1e-5)**-.5\n",
    "        bnraw = bndiff*bnvar_inv\n",
    "        hpreact = bngain*bnraw + bnbias\n",
    "        ### end batchnorm\n",
    "        h = np.tanh(hpreact)\n",
    "\n",
    "        ## Layer 2:\n",
    "        logits = h @ W2 + b2\n",
    "\n",
    "        ## Softmax: :\n",
    "        logits_maxes = logits.max(1, keepdims=True)\n",
    "        norm_logits = logits - logits_maxes\n",
    "        counts = np.exp(norm_logits)\n",
    "        counts_sum = counts.sum(1, keepdims=True)\n",
    "        counts_sum_inv = counts_sum**-1\n",
    "        probs = counts*counts_sum_inv\n",
    "\n",
    "        ## Loss :\n",
    "        logprobs = np.log(probs)\n",
    "        loss = - logprobs[range(n), label].mean()\n",
    "        losses.append(loss.item())\n",
    "\n",
    "        ## Update Batch Norm running Mean and Var\n",
    "        running_mean = (1-momentum)*running_mean + momentum*bnmean\n",
    "        running_var = (1-momentum)*running_var + momentum*bnvar\n",
    "\n",
    "        # Backprop : \n",
    "\n",
    "        dlogprobs = np.zeros_like(logprobs)\n",
    "        dlogprobs[range(n), label] = -1/n\n",
    "        dprobs = probs**-1 * dlogprobs\n",
    "        dcounts_sum_inv = (counts * dprobs).sum(1, keepdims=True)\n",
    "        dcounts = counts_sum_inv * dprobs\n",
    "        dcounts_sum = -counts_sum**-2 * dcounts_sum_inv\n",
    "        dcounts+=dcounts_sum\n",
    "        dnorm_logits = np.exp(norm_logits) * dcounts\n",
    "        dlogits_maxes = - dnorm_logits.sum(1, keepdims=True)\n",
    "        dlogits = dnorm_logits.copy()\n",
    "        matrix = np.zeros_like(logits)\n",
    "        indices = logits.argmax(1, keepdims=True)\n",
    "        matrix[indices]=1\n",
    "        dlogits += matrix * dlogits_maxes\n",
    "        dh = dlogits @ W2.T\n",
    "        dW2 = h.T @ dlogits\n",
    "        db2 = dlogits.sum(0)\n",
    "        dhpreact = (1 - h**2)*dh\n",
    "        dbngain = (bnraw * dhpreact).sum(0, keepdims=True)\n",
    "        dbnraw = bngain * dhpreact\n",
    "        dbnbias = dhpreact.sum(0, keepdims=True)\n",
    "        dbnvar_inv = (dbnraw * bndiff).sum(0, keepdims=True)\n",
    "        dbndiff = bnvar_inv * dbnraw\n",
    "        dbnvar = -.5 * (bnvar + 1e-5)**-1.5 * dbnvar_inv\n",
    "        dbndiff2 = 1/(n-1) * np.ones_like(bndiff2) * dbnvar \n",
    "        dbndiff+=2*bndiff*dbndiff2\n",
    "        dhprebn = dbndiff.copy()\n",
    "        dbnmean = - dbndiff.sum(0, keepdims=True)\n",
    "        dhprebn += 1/n * np.ones_like(hprebn) * dbnmean\n",
    "        dW1 = x.T @ dhprebn\n",
    "\n",
    "        grads = [dW1, dW2, db2, dbngain, dbnbias]\n",
    "        for p, grad in zip(parameters, grads):\n",
    "            p += - lr*grad\n",
    "        if i%100==0:\n",
    "            pbar.set_description(f\"Loss: {loss.item()}\")\n",
    "plt.plot(losses)\n",
    "plt.xlabel('Iteration')\n",
    "plt.ylabel('Loss')\n",
    "plt.title('Loss evolution')\n"
   ]
  },
  {
   "cell_type": "code",
   "execution_count": 70,
   "metadata": {},
   "outputs": [
    {
     "name": "stdout",
     "output_type": "stream",
     "text": [
      "Accuracy: 0.9607\n"
     ]
    }
   ],
   "source": [
    "all_preds = []\n",
    "all_labels = []\n",
    "\n",
    "for x, label in zip(X_test, y_test):\n",
    "    x = x.reshape(-1, 784)\n",
    "\n",
    "    # Forward Pass : \n",
    "    n = x.shape[0]\n",
    "    ## Layer 1:\n",
    "    hprebn = x @ W1\n",
    "    ### start batchnorm\n",
    "    bndiff = hprebn - running_mean\n",
    "    bnvar_inv = (running_var)**-.5\n",
    "    bnraw = bndiff*bnvar_inv\n",
    "    hpreact = bngain*bnraw + bnbias\n",
    "    ### end batchnorm\n",
    "    h = np.tanh(hpreact)\n",
    "\n",
    "    ## Layer 2:\n",
    "    logits = h @ W2 + b2\n",
    "\n",
    "    ## Softmax: :\n",
    "    logits_maxes = logits.max(1, keepdims=True)\n",
    "    norm_logits = logits - logits_maxes\n",
    "    counts = np.exp(norm_logits)\n",
    "    counts_sum = counts.sum(1, keepdims=True)\n",
    "    counts_sum_inv = counts_sum**-1\n",
    "    probs = counts*counts_sum_inv\n",
    "    pred = np.argmax(probs)\n",
    "    all_preds.append(pred)\n",
    "    all_labels.append(label)\n",
    "\n",
    "all_preds = np.stack(all_preds)\n",
    "print(f\"Accuracy: {accuracy_score(all_labels, all_preds)}\")"
   ]
  }
 ],
 "metadata": {
  "kernelspec": {
   "display_name": "these",
   "language": "python",
   "name": "python3"
  },
  "language_info": {
   "codemirror_mode": {
    "name": "ipython",
    "version": 3
   },
   "file_extension": ".py",
   "mimetype": "text/x-python",
   "name": "python",
   "nbconvert_exporter": "python",
   "pygments_lexer": "ipython3",
   "version": "3.12.2"
  }
 },
 "nbformat": 4,
 "nbformat_minor": 2
}
